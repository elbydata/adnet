{
 "cells": [
  {
   "cell_type": "code",
   "execution_count": 1,
   "metadata": {},
   "outputs": [],
   "source": [
    "import numpy as np\n",
    "import tensorflow as tf"
   ]
  },
  {
   "cell_type": "code",
   "execution_count": 2,
   "metadata": {},
   "outputs": [],
   "source": [
    "model = tf.keras.models.load_model(\"../models/u_net_mini\")"
   ]
  },
  {
   "cell_type": "code",
   "execution_count": 3,
   "metadata": {},
   "outputs": [
    {
     "name": "stdout",
     "output_type": "stream",
     "text": [
      "CPU times: user 1.52 s, sys: 186 ms, total: 1.7 s\n",
      "Wall time: 1.71 s\n"
     ]
    }
   ],
   "source": [
    "%%time\n",
    "X_test = np.load(\"../data/array_data_mini/X_train.npz\")[\"arr_0\"]\n",
    "y_test = np.load(\"../data/array_data_mini/y_train.npz\")[\"arr_0\"]"
   ]
  },
  {
   "cell_type": "code",
   "execution_count": 4,
   "metadata": {},
   "outputs": [],
   "source": [
    "X_test = X_test[0:100]\n",
    "y_test = y_test[0:100]"
   ]
  },
  {
   "cell_type": "code",
   "execution_count": 5,
   "metadata": {},
   "outputs": [
    {
     "name": "stdout",
     "output_type": "stream",
     "text": [
      "4/4 [==============================] - 1s 36ms/step\n"
     ]
    }
   ],
   "source": [
    "y_pred = np.argmax(model.predict(X_test,verbose=1),axis=-1)"
   ]
  },
  {
   "cell_type": "code",
   "execution_count": 6,
   "metadata": {},
   "outputs": [],
   "source": [
    "from evaluation_module import mean_iou"
   ]
  },
  {
   "cell_type": "code",
   "execution_count": 7,
   "metadata": {},
   "outputs": [
    {
     "name": "stdout",
     "output_type": "stream",
     "text": [
      "Mean IoU Score: 0.9135638650026705\n"
     ]
    }
   ],
   "source": [
    "mean_iou(y_test,y_pred,6)"
   ]
  },
  {
   "cell_type": "code",
   "execution_count": 8,
   "metadata": {},
   "outputs": [],
   "source": [
    "from evaluation_module import evaluate_sample"
   ]
  },
  {
   "cell_type": "code",
   "execution_count": 9,
   "metadata": {},
   "outputs": [
    {
     "name": "stdout",
     "output_type": "stream",
     "text": [
      "X_sample:\n",
      "\n",
      "['#' 'p' 'r' 'z' \"'\" '#' \"'\" '5' \"'\" '}' '>' 'p' 'w' '#' '8' '}' 'u' 'x'\n",
      " \"'\" '>' '5' '%' '^' '9' ';' 'h' ']' 'n' 'i' 'j' 'l' 'e' 'n' 'v' '8' '#'\n",
      " '8' '$' '&' 'w' ')' 'b' 'p' ']' '9' '8' '|' \"'\" ']' 's' '*' 'y' 'b' 'e'\n",
      " 'l' 'g' 'i' 'q' 'u' 'e' 'j' 'j' '^' '0' '.' '^' '1' '$' 'k' 't' 'x' '?'\n",
      " '1' 'l' '-' 'f' '*' 'y' 'p' 'a' 't' 'r' 'i' 'j' 'z' 'e' 'n' 'w' 'e' 'g'\n",
      " '[' 'k' 'u' '}' 'r' 'q' '<' 'b' '<' ';' '$' '^' '~' '4' 'b' '2' '5' '6'\n",
      " '0' '>' '?' 'h' '<' '|' 'a' 'n' '_' '4' 'i' 'l' '-' '3' '$' '*' '6' ','\n",
      " '>' '2']\n",
      "\n",
      "                    Predicted:                    Actual:\n",
      "\n",
      "number                                            9\n",
      "street              ypatrijzenweg                 patrijzenweg\n",
      "city                ijlenv                        nijlen\n",
      "postcode            2560                          2560\n",
      "country             belgiquejj                    belgique\n"
     ]
    }
   ],
   "source": [
    "evaluate_sample(model,X_test,y_test,0)"
   ]
  }
 ],
 "metadata": {
  "kernelspec": {
   "display_name": "Python 3",
   "language": "python",
   "name": "python3"
  },
  "language_info": {
   "codemirror_mode": {
    "name": "ipython",
    "version": 3
   },
   "file_extension": ".py",
   "mimetype": "text/x-python",
   "name": "python",
   "nbconvert_exporter": "python",
   "pygments_lexer": "ipython3",
   "version": "3.7.6"
  }
 },
 "nbformat": 4,
 "nbformat_minor": 4
}
