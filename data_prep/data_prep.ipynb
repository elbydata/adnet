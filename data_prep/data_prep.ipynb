{
 "cells": [
  {
   "cell_type": "code",
   "execution_count": 1,
   "metadata": {},
   "outputs": [],
   "source": [
    "import pandas as pd\n",
    "import numpy as np\n",
    "from unidecode import unidecode\n",
    "import string\n",
    "import os\n",
    "import gc\n",
    "from tqdm import tqdm"
   ]
  },
  {
   "cell_type": "code",
   "execution_count": 2,
   "metadata": {},
   "outputs": [],
   "source": [
    "pd.options.mode.chained_assignment = None"
   ]
  },
  {
   "cell_type": "code",
   "execution_count": 3,
   "metadata": {},
   "outputs": [],
   "source": [
    "import data_prep_module"
   ]
  },
  {
   "cell_type": "code",
   "execution_count": 4,
   "metadata": {},
   "outputs": [],
   "source": [
    "# set up basic data prep parameters\n",
    "country = \"austria\"\n",
    "base_path = \"../data/archive/\"\n",
    "target_path = \"../data/array_data/\"\n",
    "max_rows = 500000\n",
    "seq_size = 128\n",
    "batch_size = 10000"
   ]
  },
  {
   "cell_type": "code",
   "execution_count": 5,
   "metadata": {},
   "outputs": [
    {
     "name": "stdout",
     "output_type": "stream",
     "text": [
      "Processing austria data...\n",
      "Batch processing...\n"
     ]
    },
    {
     "name": "stderr",
     "output_type": "stream",
     "text": [
      "100%|██████████| 50/50 [01:08<00:00,  1.37s/it]\n"
     ]
    },
    {
     "name": "stdout",
     "output_type": "stream",
     "text": [
      "X_sample:\n",
      "['`' 'e' '{' '4' 'w' 'z' '/' 'p' '/' '+' 'h' \"'\" '|' 'n' 'c' '-' '/' '<'\n",
      " 'd' '?' '*' 'x' 'f' ')' 'd' '9' '9' '$' 'b' '*' '/' '!' ';' '`' 'a' 't'\n",
      " 'q' '%' ';' 'o' 'i' 'x' '6' '3' '6' '3' 'i' 'n' 'a' 'v' 'a' '.' 'o' '0'\n",
      " 'x' '#' 'i' 'c' 'o' 'b' 'e' 'r' 'w' 'i' 'n' 'd' 'a' 'u' ';' 'z' '|' 's'\n",
      " 'g' 'v' '+' 'k' 'h' '-' 'u' '+' 'm' '0' 'p' '@' '|' '7' '_' '6' '<' '@'\n",
      " 'h' 'h' 'x' '}' '=' 's' 'p' 'h' ':' '>' '\"' '>' '5' 'v' '=' 'h' '+' '~'\n",
      " '2' \"'\" 'p' '.' '@' '0' '-' '5' 't' '{' '%' '+' 'i' '[' '3' '|' 's' '-'\n",
      " 'x' 'b']\n",
      "\n",
      "y_sample:\n",
      "[0 0 0 0 0 0 0 0 0 0 0 0 0 0 0 0 0 0 0 0 0 0 0 0 0 1 1 0 0 0 0 0 0 0 5 5 0\n",
      " 0 0 0 0 0 4 4 4 4 0 0 0 0 0 0 0 0 0 0 0 0 2 2 2 2 2 2 2 2 2 2 0 0 0 0 0 0\n",
      " 0 0 0 0 0 0 0 0 0 0 0 0 0 0 0 0 0 0 0 0 0 0 0 0 0 0 0 0 0 0 0 0 0 0 0 0 0\n",
      " 0 0 0 0 0 0 0 0 0 0 0 0 0 0 0 0 0]\n",
      "\n",
      "99\n",
      "oberwindau\n",
      "\n",
      "6363\n",
      "at\n",
      "\n",
      "Saving arrays...\n",
      "Arrays saved in ../data/array_data/.\n",
      "CPU times: user 1min 56s, sys: 4.03 s, total: 2min\n",
      "Wall time: 2min 1s\n"
     ]
    }
   ],
   "source": [
    "%%time\n",
    "data_prep_module.adnet_processing(country,base_path,target_path,max_rows,seq_size,batch_size)"
   ]
  },
  {
   "cell_type": "code",
   "execution_count": null,
   "metadata": {},
   "outputs": [],
   "source": []
  }
 ],
 "metadata": {
  "kernelspec": {
   "display_name": "Python 3",
   "language": "python",
   "name": "python3"
  },
  "language_info": {
   "codemirror_mode": {
    "name": "ipython",
    "version": 3
   },
   "file_extension": ".py",
   "mimetype": "text/x-python",
   "name": "python",
   "nbconvert_exporter": "python",
   "pygments_lexer": "ipython3",
   "version": "3.7.6"
  }
 },
 "nbformat": 4,
 "nbformat_minor": 4
}
