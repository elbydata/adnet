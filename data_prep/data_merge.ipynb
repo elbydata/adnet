{
 "cells": [
  {
   "cell_type": "code",
   "execution_count": null,
   "metadata": {},
   "outputs": [],
   "source": [
    "import numpy as np\n",
    "import os\n",
    "from sklearn.model_selection import train_test_split\n",
    "from tqdm import tqdm\n",
    "import gc"
   ]
  },
  {
   "cell_type": "code",
   "execution_count": null,
   "metadata": {},
   "outputs": [],
   "source": [
    "# set up random number generator\n",
    "rng = np.random.default_rng(42)"
   ]
  },
  {
   "cell_type": "code",
   "execution_count": null,
   "metadata": {},
   "outputs": [],
   "source": [
    "# create list of data subsets\n",
    "X_files = sorted([f for f in os.listdir(\"../data/array_data/X/\") if f.endswith(\"npz\")])\n",
    "y_files = sorted([f for f in os.listdir(\"../data/array_data/y/\") if f.endswith(\"npz\")])"
   ]
  },
  {
   "cell_type": "code",
   "execution_count": null,
   "metadata": {},
   "outputs": [],
   "source": [
    "%%time\n",
    "# merge X arrays\n",
    "X_arrays = []\n",
    "for i in X_files:\n",
    "    X_data = np.load(f\"../data/array_data/X/{i}\")[\"arr_0\"]\n",
    "    X_arrays.append(X_data)\n",
    "X = np.concatenate(X_arrays, axis=0)"
   ]
  },
  {
   "cell_type": "code",
   "execution_count": null,
   "metadata": {},
   "outputs": [],
   "source": [
    "%%time\n",
    "# merge y arrays\n",
    "y_arrays = []\n",
    "for i in y_files:\n",
    "    y_data = np.load(f\"../data/array_data/y/{i}\")[\"arr_0\"]\n",
    "    y_arrays.append(y_data)\n",
    "y = np.concatenate(y_arrays, axis=0)"
   ]
  },
  {
   "cell_type": "code",
   "execution_count": null,
   "metadata": {},
   "outputs": [],
   "source": [
    "print(X.shape)\n",
    "print(y.shape)"
   ]
  },
  {
   "cell_type": "code",
   "execution_count": null,
   "metadata": {},
   "outputs": [],
   "source": [
    "# %%time\n",
    "# # shuffle X and y\n",
    "# shuf_choice = rng.choice(X.shape[0],X.shape[0],replace=False)\n",
    "# X = X[shuf_choice]\n",
    "# y = y[shuf_choice]"
   ]
  },
  {
   "cell_type": "code",
   "execution_count": null,
   "metadata": {},
   "outputs": [],
   "source": [
    "# # free memory\n",
    "# del shuf_choice\n",
    "# gc.collect()"
   ]
  },
  {
   "cell_type": "code",
   "execution_count": null,
   "metadata": {},
   "outputs": [],
   "source": [
    "%%time\n",
    "# convert sequence values to integers\n",
    "X = X.view(np.int32)"
   ]
  },
  {
   "cell_type": "code",
   "execution_count": null,
   "metadata": {},
   "outputs": [],
   "source": [
    "%%time\n",
    "# normalize sequence values to range [0,1]\n",
    "min_val, max_val = np.min(X), np.max(X)"
   ]
  },
  {
   "cell_type": "code",
   "execution_count": null,
   "metadata": {},
   "outputs": [],
   "source": [
    "batched_X = np.array_split(X,1000)"
   ]
  },
  {
   "cell_type": "code",
   "execution_count": null,
   "metadata": {},
   "outputs": [],
   "source": [
    "del X\n",
    "gc.collect()"
   ]
  },
  {
   "cell_type": "code",
   "execution_count": null,
   "metadata": {},
   "outputs": [],
   "source": [
    "batched_X_norm = []\n",
    "for i in tqdm(batched_X, total=len(batched_X)):\n",
    "    \n",
    "    X_norm = (i-min_val)/(max_val-min_val)\n",
    "    \n",
    "    batched_X_norm.append(X_norm)\n",
    "    del i\n",
    "    gc.collect()"
   ]
  },
  {
   "cell_type": "code",
   "execution_count": null,
   "metadata": {},
   "outputs": [],
   "source": []
  },
  {
   "cell_type": "code",
   "execution_count": null,
   "metadata": {},
   "outputs": [],
   "source": []
  },
  {
   "cell_type": "code",
   "execution_count": null,
   "metadata": {},
   "outputs": [],
   "source": [
    "# reshape data for modelling\n",
    "X = np.expand_dims(X,-1)\n",
    "y = np.expand_dims(y,-1)"
   ]
  },
  {
   "cell_type": "code",
   "execution_count": null,
   "metadata": {},
   "outputs": [],
   "source": [
    "%%time\n",
    "# split into training, validation, and testing sets\n",
    "X_train, X_tv, y_train, y_tv = train_test_split(X,y,test_size=0.05,random_state=42)\n",
    "X_test, X_val, y_test, y_val = train_test_split(X_tv,y_tv,test_size=0.5,random_state=42)"
   ]
  },
  {
   "cell_type": "code",
   "execution_count": null,
   "metadata": {},
   "outputs": [],
   "source": [
    "print(X_train.shape)\n",
    "print(y_train.shape)\n",
    "print(X_val.shape)\n",
    "print(y_val.shape)\n",
    "print(X_test.shape)\n",
    "print(y_test.shape)"
   ]
  },
  {
   "cell_type": "code",
   "execution_count": null,
   "metadata": {},
   "outputs": [],
   "source": [
    "# display random X and y value and sense check values\n",
    "display_idx = rng.choice(X_train.shape[0])\n",
    "for k,v in {\"X\":X_train,\"y\":y_train}.items():\n",
    "    print(f\"{k}_sample:\")\n",
    "    print(v[display_idx].reshape(128))\n",
    "    print(\"\")\n",
    "X_decode = np.array([chr(int(i)) for i in (X_train[display_idx].reshape((128))*(max_val-min_val))+min_val])\n",
    "for i in range(1,6):\n",
    "    print(\"\".join(X_decode[np.where(y_train[display_idx] == i)[0]]))"
   ]
  },
  {
   "cell_type": "code",
   "execution_count": null,
   "metadata": {},
   "outputs": [],
   "source": [
    "%%time\n",
    "# calculate accuracy threshold for val and test datasets\n",
    "# note thresholds and min/max values pre-normalization\n",
    "lines = [\"\",f\"Min val: {min_val}\",f\"Min val: {max_val}\"]\n",
    "for k,v in {\"y_val\":y_val,\"y_test\":y_test}.items():\n",
    "    total_non_zero = np.where(v!=0)[0].shape[0]\n",
    "    accuracy_threshold = np.round(100-(total_non_zero/v.shape[0]),2)\n",
    "    acc = f\"Accuracy threshold for {k}: {accuracy_threshold}%\"\n",
    "    lines.append(acc)\n",
    "    print(acc)\n",
    "    print(\"\")\n",
    "with open(\"meta_mini\", 'w') as f:\n",
    "    f.writelines('\\n'.join(lines))"
   ]
  },
  {
   "cell_type": "code",
   "execution_count": null,
   "metadata": {},
   "outputs": [],
   "source": [
    "# %%time\n",
    "# np.savez_compressed(f\"../data/array_data_mini/X_train.npz\",X_train)\n",
    "# np.savez_compressed(f\"../data/array_data_mini/y_train.npz\",y_train)\n",
    "# np.savez_compressed(f\"../data/array_data_mini/X_val.npz\",X_val)\n",
    "# np.savez_compressed(f\"../data/array_data_mini/y_val.npz\",y_val)\n",
    "# np.savez_compressed(f\"../data/array_data_mini/X_test.npz\",X_test)\n",
    "# np.savez_compressed(f\"../data/array_data_mini/y_test.npz\",y_test)"
   ]
  }
 ],
 "metadata": {
  "kernelspec": {
   "display_name": "Python 3",
   "language": "python",
   "name": "python3"
  },
  "language_info": {
   "codemirror_mode": {
    "name": "ipython",
    "version": 3
   },
   "file_extension": ".py",
   "mimetype": "text/x-python",
   "name": "python",
   "nbconvert_exporter": "python",
   "pygments_lexer": "ipython3",
   "version": "3.7.6"
  }
 },
 "nbformat": 4,
 "nbformat_minor": 4
}
