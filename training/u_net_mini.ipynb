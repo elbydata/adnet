{
 "cells": [
  {
   "cell_type": "code",
   "execution_count": 1,
   "metadata": {},
   "outputs": [],
   "source": [
    "import numpy as np\n",
    "import tensorflow as tf"
   ]
  },
  {
   "cell_type": "code",
   "execution_count": 2,
   "metadata": {},
   "outputs": [
    {
     "name": "stdout",
     "output_type": "stream",
     "text": [
      "CPU times: user 1.64 s, sys: 202 ms, total: 1.84 s\n",
      "Wall time: 1.87 s\n"
     ]
    }
   ],
   "source": [
    "%%time\n",
    "X_train = np.load(\"../data/array_data_mini/X_train.npz\")[\"arr_0\"]\n",
    "y_train = np.load(\"../data/array_data_mini/y_train.npz\")[\"arr_0\"]\n",
    "X_val = np.load(\"../data/array_data_mini/X_val.npz\")[\"arr_0\"]\n",
    "y_val = np.load(\"../data/array_data_mini/y_val.npz\")[\"arr_0\"]"
   ]
  },
  {
   "cell_type": "code",
   "execution_count": 3,
   "metadata": {},
   "outputs": [
    {
     "name": "stdout",
     "output_type": "stream",
     "text": [
      "(289000, 128, 1)\n",
      "(289000, 128, 1)\n",
      "(25500, 128, 1)\n",
      "(25500, 128, 1)\n"
     ]
    }
   ],
   "source": [
    "print(X_train.shape)\n",
    "print(y_train.shape)\n",
    "print(X_val.shape)\n",
    "print(y_val.shape)"
   ]
  },
  {
   "cell_type": "code",
   "execution_count": 4,
   "metadata": {},
   "outputs": [],
   "source": [
    "seq_size = (X_train[0].shape[0],1)\n",
    "n_classes = 6\n",
    "batch_size = 32"
   ]
  },
  {
   "cell_type": "code",
   "execution_count": 5,
   "metadata": {},
   "outputs": [
    {
     "name": "stdout",
     "output_type": "stream",
     "text": [
      "(128, 1)\n"
     ]
    }
   ],
   "source": [
    "print(seq_size)"
   ]
  },
  {
   "cell_type": "code",
   "execution_count": 6,
   "metadata": {},
   "outputs": [],
   "source": [
    "class Gen_Data(tf.keras.utils.Sequence):\n",
    "    \n",
    "    # Generate data batches for model\n",
    "    \n",
    "    def __init__(self,batch_size,seq_size,X_data,y_data):\n",
    "        \n",
    "        # Set required attributes\n",
    "        self.batch_size = batch_size\n",
    "        self.t_size = seq_size\n",
    "        self.X_data = X_data\n",
    "        self.y_data = y_data\n",
    "        self.n_batches = len(self.X_data)//self.batch_size\n",
    "        self.batch_idx = np.array_split(range(len(self.X_data)), self.n_batches)\n",
    "            \n",
    "    def __len__(self):\n",
    "\n",
    "        # Set number of batches per epoch\n",
    "        return self.n_batches\n",
    "    \n",
    "    def __getitem__(self,idx):\n",
    "\n",
    "        # Fetch one batch   \n",
    "        batch_X = self.X_data[self.batch_idx[idx]]\n",
    "        batch_y = self.y_data[self.batch_idx[idx]]\n",
    "        return batch_X, batch_y      "
   ]
  },
  {
   "cell_type": "code",
   "execution_count": 7,
   "metadata": {},
   "outputs": [],
   "source": [
    "train_gen = Gen_Data(batch_size, seq_size, X_train, y_train)\n",
    "val_gen = Gen_Data(batch_size, seq_size, X_val, y_val)"
   ]
  },
  {
   "cell_type": "code",
   "execution_count": 8,
   "metadata": {},
   "outputs": [],
   "source": [
    "def get_model(seq_size, n_classes):\n",
    "    inputs = tf.keras.Input(shape=seq_size)\n",
    "\n",
    "    # entry block\n",
    "    x = tf.keras.layers.Conv1D(32, 5, strides=2, padding=\"same\")(inputs)\n",
    "    x = tf.keras.layers.BatchNormalization()(x)\n",
    "    x = tf.keras.layers.Activation(\"relu\")(x)\n",
    "    block_out = x\n",
    "    \n",
    "    # downsample blocks\n",
    "    for f in [64,128,256]:\n",
    "        \n",
    "        x = tf.keras.layers.Conv1D(f, 5, strides=1, padding=\"same\")(x)\n",
    "        x = tf.keras.layers.BatchNormalization()(x)\n",
    "        x = tf.keras.layers.Activation(\"relu\")(x)\n",
    "\n",
    "        x = tf.keras.layers.Conv1D(f, 5, strides=1, padding=\"same\")(x)\n",
    "        x = tf.keras.layers.BatchNormalization()(x)\n",
    "        x = tf.keras.layers.Activation(\"relu\")(x)\n",
    "\n",
    "        x = tf.keras.layers.MaxPooling1D(3, strides=2, padding=\"same\")(x)\n",
    "\n",
    "        residual = tf.keras.layers.Conv1D(f, 1, strides=2, padding=\"same\")(block_out)\n",
    "        x = tf.keras.layers.add([x, residual])\n",
    "        block_out = x   \n",
    "\n",
    "    # upsample blocks\n",
    "    for f in [256, 128, 64, 32]:\n",
    "        \n",
    "        x = tf.keras.layers.Conv1DTranspose(f,5,padding=\"same\")(x)\n",
    "        x = tf.keras.layers.BatchNormalization()(x)\n",
    "        x = tf.keras.layers.Activation(\"relu\")(x)        \n",
    "        \n",
    "        x = tf.keras.layers.Conv1DTranspose(f,5,padding=\"same\")(x)\n",
    "        x = tf.keras.layers.BatchNormalization()(x)\n",
    "        x = tf.keras.layers.Activation(\"relu\")(x) \n",
    "        \n",
    "        x = tf.keras.layers.UpSampling1D(2)(x) \n",
    "                \n",
    "        residual = tf.keras.layers.UpSampling1D(2)(block_out)\n",
    "        residual = tf.keras.layers.Conv1D(f, 1, padding=\"same\")(residual)\n",
    "        x = tf.keras.layers.add([x, residual])\n",
    "        block_out = x              \n",
    "        \n",
    "    # Add a per-pixel classification layer\n",
    "    outputs = tf.keras.layers.Conv1D(n_classes, 3, activation=\"softmax\", padding=\"same\")(x)    \n",
    "    \n",
    "    # Define the model\n",
    "    model = tf.keras.Model(inputs, outputs)\n",
    "    return model    "
   ]
  },
  {
   "cell_type": "code",
   "execution_count": 9,
   "metadata": {},
   "outputs": [],
   "source": [
    "tf.keras.backend.clear_session()"
   ]
  },
  {
   "cell_type": "code",
   "execution_count": 10,
   "metadata": {},
   "outputs": [],
   "source": [
    "model = get_model(seq_size,n_classes)"
   ]
  },
  {
   "cell_type": "code",
   "execution_count": 11,
   "metadata": {},
   "outputs": [
    {
     "name": "stdout",
     "output_type": "stream",
     "text": [
      "Model: \"model\"\n",
      "__________________________________________________________________________________________________\n",
      " Layer (type)                   Output Shape         Param #     Connected to                     \n",
      "==================================================================================================\n",
      " input_1 (InputLayer)           [(None, 128, 1)]     0           []                               \n",
      "                                                                                                  \n",
      " conv1d (Conv1D)                (None, 64, 32)       192         ['input_1[0][0]']                \n",
      "                                                                                                  \n",
      " batch_normalization (BatchNorm  (None, 64, 32)      128         ['conv1d[0][0]']                 \n",
      " alization)                                                                                       \n",
      "                                                                                                  \n",
      " activation (Activation)        (None, 64, 32)       0           ['batch_normalization[0][0]']    \n",
      "                                                                                                  \n",
      " conv1d_1 (Conv1D)              (None, 64, 64)       10304       ['activation[0][0]']             \n",
      "                                                                                                  \n",
      " batch_normalization_1 (BatchNo  (None, 64, 64)      256         ['conv1d_1[0][0]']               \n",
      " rmalization)                                                                                     \n",
      "                                                                                                  \n",
      " activation_1 (Activation)      (None, 64, 64)       0           ['batch_normalization_1[0][0]']  \n",
      "                                                                                                  \n",
      " conv1d_2 (Conv1D)              (None, 64, 64)       20544       ['activation_1[0][0]']           \n",
      "                                                                                                  \n",
      " batch_normalization_2 (BatchNo  (None, 64, 64)      256         ['conv1d_2[0][0]']               \n",
      " rmalization)                                                                                     \n",
      "                                                                                                  \n",
      " activation_2 (Activation)      (None, 64, 64)       0           ['batch_normalization_2[0][0]']  \n",
      "                                                                                                  \n",
      " max_pooling1d (MaxPooling1D)   (None, 32, 64)       0           ['activation_2[0][0]']           \n",
      "                                                                                                  \n",
      " conv1d_3 (Conv1D)              (None, 32, 64)       2112        ['activation[0][0]']             \n",
      "                                                                                                  \n",
      " add (Add)                      (None, 32, 64)       0           ['max_pooling1d[0][0]',          \n",
      "                                                                  'conv1d_3[0][0]']               \n",
      "                                                                                                  \n",
      " conv1d_4 (Conv1D)              (None, 32, 128)      41088       ['add[0][0]']                    \n",
      "                                                                                                  \n",
      " batch_normalization_3 (BatchNo  (None, 32, 128)     512         ['conv1d_4[0][0]']               \n",
      " rmalization)                                                                                     \n",
      "                                                                                                  \n",
      " activation_3 (Activation)      (None, 32, 128)      0           ['batch_normalization_3[0][0]']  \n",
      "                                                                                                  \n",
      " conv1d_5 (Conv1D)              (None, 32, 128)      82048       ['activation_3[0][0]']           \n",
      "                                                                                                  \n",
      " batch_normalization_4 (BatchNo  (None, 32, 128)     512         ['conv1d_5[0][0]']               \n",
      " rmalization)                                                                                     \n",
      "                                                                                                  \n",
      " activation_4 (Activation)      (None, 32, 128)      0           ['batch_normalization_4[0][0]']  \n",
      "                                                                                                  \n",
      " max_pooling1d_1 (MaxPooling1D)  (None, 16, 128)     0           ['activation_4[0][0]']           \n",
      "                                                                                                  \n",
      " conv1d_6 (Conv1D)              (None, 16, 128)      8320        ['add[0][0]']                    \n",
      "                                                                                                  \n",
      " add_1 (Add)                    (None, 16, 128)      0           ['max_pooling1d_1[0][0]',        \n",
      "                                                                  'conv1d_6[0][0]']               \n",
      "                                                                                                  \n",
      " conv1d_7 (Conv1D)              (None, 16, 256)      164096      ['add_1[0][0]']                  \n",
      "                                                                                                  \n",
      " batch_normalization_5 (BatchNo  (None, 16, 256)     1024        ['conv1d_7[0][0]']               \n",
      " rmalization)                                                                                     \n",
      "                                                                                                  \n",
      " activation_5 (Activation)      (None, 16, 256)      0           ['batch_normalization_5[0][0]']  \n",
      "                                                                                                  \n",
      " conv1d_8 (Conv1D)              (None, 16, 256)      327936      ['activation_5[0][0]']           \n",
      "                                                                                                  \n",
      " batch_normalization_6 (BatchNo  (None, 16, 256)     1024        ['conv1d_8[0][0]']               \n",
      " rmalization)                                                                                     \n",
      "                                                                                                  \n",
      " activation_6 (Activation)      (None, 16, 256)      0           ['batch_normalization_6[0][0]']  \n",
      "                                                                                                  \n",
      " max_pooling1d_2 (MaxPooling1D)  (None, 8, 256)      0           ['activation_6[0][0]']           \n",
      "                                                                                                  \n",
      " conv1d_9 (Conv1D)              (None, 8, 256)       33024       ['add_1[0][0]']                  \n",
      "                                                                                                  \n",
      " add_2 (Add)                    (None, 8, 256)       0           ['max_pooling1d_2[0][0]',        \n",
      "                                                                  'conv1d_9[0][0]']               \n",
      "                                                                                                  \n",
      " conv1d_transpose (Conv1DTransp  (None, 8, 256)      327936      ['add_2[0][0]']                  \n",
      " ose)                                                                                             \n",
      "                                                                                                  \n",
      " batch_normalization_7 (BatchNo  (None, 8, 256)      1024        ['conv1d_transpose[0][0]']       \n",
      " rmalization)                                                                                     \n",
      "                                                                                                  \n",
      " activation_7 (Activation)      (None, 8, 256)       0           ['batch_normalization_7[0][0]']  \n",
      "                                                                                                  \n",
      " conv1d_transpose_1 (Conv1DTran  (None, 8, 256)      327936      ['activation_7[0][0]']           \n",
      " spose)                                                                                           \n",
      "                                                                                                  \n",
      " batch_normalization_8 (BatchNo  (None, 8, 256)      1024        ['conv1d_transpose_1[0][0]']     \n",
      " rmalization)                                                                                     \n",
      "                                                                                                  \n",
      " activation_8 (Activation)      (None, 8, 256)       0           ['batch_normalization_8[0][0]']  \n",
      "                                                                                                  \n",
      " up_sampling1d_1 (UpSampling1D)  (None, 16, 256)     0           ['add_2[0][0]']                  \n",
      "                                                                                                  \n",
      " up_sampling1d (UpSampling1D)   (None, 16, 256)      0           ['activation_8[0][0]']           \n",
      "                                                                                                  \n",
      " conv1d_10 (Conv1D)             (None, 16, 256)      65792       ['up_sampling1d_1[0][0]']        \n",
      "                                                                                                  \n",
      " add_3 (Add)                    (None, 16, 256)      0           ['up_sampling1d[0][0]',          \n",
      "                                                                  'conv1d_10[0][0]']              \n",
      "                                                                                                  \n",
      " conv1d_transpose_2 (Conv1DTran  (None, 16, 128)     163968      ['add_3[0][0]']                  \n",
      " spose)                                                                                           \n",
      "                                                                                                  \n",
      " batch_normalization_9 (BatchNo  (None, 16, 128)     512         ['conv1d_transpose_2[0][0]']     \n",
      " rmalization)                                                                                     \n",
      "                                                                                                  \n",
      " activation_9 (Activation)      (None, 16, 128)      0           ['batch_normalization_9[0][0]']  \n",
      "                                                                                                  \n",
      " conv1d_transpose_3 (Conv1DTran  (None, 16, 128)     82048       ['activation_9[0][0]']           \n",
      " spose)                                                                                           \n",
      "                                                                                                  \n",
      " batch_normalization_10 (BatchN  (None, 16, 128)     512         ['conv1d_transpose_3[0][0]']     \n",
      " ormalization)                                                                                    \n",
      "                                                                                                  \n",
      " activation_10 (Activation)     (None, 16, 128)      0           ['batch_normalization_10[0][0]'] \n",
      "                                                                                                  \n",
      " up_sampling1d_3 (UpSampling1D)  (None, 32, 256)     0           ['add_3[0][0]']                  \n",
      "                                                                                                  \n",
      " up_sampling1d_2 (UpSampling1D)  (None, 32, 128)     0           ['activation_10[0][0]']          \n",
      "                                                                                                  \n",
      " conv1d_11 (Conv1D)             (None, 32, 128)      32896       ['up_sampling1d_3[0][0]']        \n",
      "                                                                                                  \n",
      " add_4 (Add)                    (None, 32, 128)      0           ['up_sampling1d_2[0][0]',        \n",
      "                                                                  'conv1d_11[0][0]']              \n",
      "                                                                                                  \n",
      " conv1d_transpose_4 (Conv1DTran  (None, 32, 64)      41024       ['add_4[0][0]']                  \n",
      " spose)                                                                                           \n",
      "                                                                                                  \n",
      " batch_normalization_11 (BatchN  (None, 32, 64)      256         ['conv1d_transpose_4[0][0]']     \n",
      " ormalization)                                                                                    \n",
      "                                                                                                  \n",
      " activation_11 (Activation)     (None, 32, 64)       0           ['batch_normalization_11[0][0]'] \n",
      "                                                                                                  \n",
      " conv1d_transpose_5 (Conv1DTran  (None, 32, 64)      20544       ['activation_11[0][0]']          \n",
      " spose)                                                                                           \n",
      "                                                                                                  \n",
      " batch_normalization_12 (BatchN  (None, 32, 64)      256         ['conv1d_transpose_5[0][0]']     \n",
      " ormalization)                                                                                    \n",
      "                                                                                                  \n",
      " activation_12 (Activation)     (None, 32, 64)       0           ['batch_normalization_12[0][0]'] \n",
      "                                                                                                  \n",
      " up_sampling1d_5 (UpSampling1D)  (None, 64, 128)     0           ['add_4[0][0]']                  \n",
      "                                                                                                  \n",
      " up_sampling1d_4 (UpSampling1D)  (None, 64, 64)      0           ['activation_12[0][0]']          \n",
      "                                                                                                  \n",
      " conv1d_12 (Conv1D)             (None, 64, 64)       8256        ['up_sampling1d_5[0][0]']        \n",
      "                                                                                                  \n",
      " add_5 (Add)                    (None, 64, 64)       0           ['up_sampling1d_4[0][0]',        \n",
      "                                                                  'conv1d_12[0][0]']              \n",
      "                                                                                                  \n",
      " conv1d_transpose_6 (Conv1DTran  (None, 64, 32)      10272       ['add_5[0][0]']                  \n",
      " spose)                                                                                           \n",
      "                                                                                                  \n",
      " batch_normalization_13 (BatchN  (None, 64, 32)      128         ['conv1d_transpose_6[0][0]']     \n",
      " ormalization)                                                                                    \n",
      "                                                                                                  \n",
      " activation_13 (Activation)     (None, 64, 32)       0           ['batch_normalization_13[0][0]'] \n",
      "                                                                                                  \n",
      " conv1d_transpose_7 (Conv1DTran  (None, 64, 32)      5152        ['activation_13[0][0]']          \n",
      " spose)                                                                                           \n",
      "                                                                                                  \n",
      " batch_normalization_14 (BatchN  (None, 64, 32)      128         ['conv1d_transpose_7[0][0]']     \n",
      " ormalization)                                                                                    \n",
      "                                                                                                  \n",
      " activation_14 (Activation)     (None, 64, 32)       0           ['batch_normalization_14[0][0]'] \n",
      "                                                                                                  \n",
      " up_sampling1d_7 (UpSampling1D)  (None, 128, 64)     0           ['add_5[0][0]']                  \n",
      "                                                                                                  \n",
      " up_sampling1d_6 (UpSampling1D)  (None, 128, 32)     0           ['activation_14[0][0]']          \n",
      "                                                                                                  \n",
      " conv1d_13 (Conv1D)             (None, 128, 32)      2080        ['up_sampling1d_7[0][0]']        \n",
      "                                                                                                  \n",
      " add_6 (Add)                    (None, 128, 32)      0           ['up_sampling1d_6[0][0]',        \n",
      "                                                                  'conv1d_13[0][0]']              \n",
      "                                                                                                  \n",
      " conv1d_14 (Conv1D)             (None, 128, 6)       582         ['add_6[0][0]']                  \n",
      "                                                                                                  \n",
      "==================================================================================================\n",
      "Total params: 1,785,702\n",
      "Trainable params: 1,781,926\n",
      "Non-trainable params: 3,776\n",
      "__________________________________________________________________________________________________\n"
     ]
    }
   ],
   "source": [
    "model.summary()"
   ]
  },
  {
   "cell_type": "code",
   "execution_count": 12,
   "metadata": {},
   "outputs": [],
   "source": [
    "loss = tf.keras.losses.SparseCategoricalCrossentropy()\n",
    "opt = tf.keras.optimizers.Adam()"
   ]
  },
  {
   "cell_type": "code",
   "execution_count": 13,
   "metadata": {},
   "outputs": [],
   "source": [
    "model.compile(optimizer=opt,loss=loss)"
   ]
  },
  {
   "cell_type": "code",
   "execution_count": 14,
   "metadata": {},
   "outputs": [
    {
     "name": "stdout",
     "output_type": "stream",
     "text": [
      "Epoch 1/5\n",
      "9031/9031 [==============================] - 1429s 158ms/step - loss: 0.2185 - val_loss: 0.1385\n",
      "Epoch 2/5\n",
      "9031/9031 [==============================] - 1418s 157ms/step - loss: 0.1137 - val_loss: 0.1081\n",
      "Epoch 3/5\n",
      "9031/9031 [==============================] - 1437s 159ms/step - loss: 0.0859 - val_loss: 0.0842\n",
      "Epoch 4/5\n",
      "9031/9031 [==============================] - 1447s 160ms/step - loss: 0.0717 - val_loss: 0.0760\n",
      "Epoch 5/5\n",
      "9031/9031 [==============================] - 1418s 157ms/step - loss: 0.0622 - val_loss: 0.0643\n"
     ]
    },
    {
     "data": {
      "text/plain": [
       "<keras.callbacks.History at 0x7fd6f6f0c750>"
      ]
     },
     "execution_count": 14,
     "metadata": {},
     "output_type": "execute_result"
    }
   ],
   "source": [
    "epochs = 5\n",
    "model.fit(train_gen, epochs=epochs, validation_data=val_gen)"
   ]
  },
  {
   "cell_type": "code",
   "execution_count": 16,
   "metadata": {},
   "outputs": [
    {
     "name": "stdout",
     "output_type": "stream",
     "text": [
      "INFO:tensorflow:Assets written to: ../models/u_net_mini/assets\n"
     ]
    },
    {
     "name": "stderr",
     "output_type": "stream",
     "text": [
      "/opt/anaconda3/lib/python3.7/site-packages/keras/engine/functional.py:1410: CustomMaskWarning: Custom mask layers require a config and must override get_config. When loading, the custom mask layer must be passed to the custom_objects argument.\n",
      "  layer_config = serialize_layer_fn(layer)\n",
      "/opt/anaconda3/lib/python3.7/site-packages/keras/saving/saved_model/layer_serialization.py:112: CustomMaskWarning: Custom mask layers require a config and must override get_config. When loading, the custom mask layer must be passed to the custom_objects argument.\n",
      "  return generic_utils.serialize_keras_object(obj)\n"
     ]
    }
   ],
   "source": [
    "model.save(\"../models/u_net_mini/\")"
   ]
  }
 ],
 "metadata": {
  "kernelspec": {
   "display_name": "Python 3",
   "language": "python",
   "name": "python3"
  },
  "language_info": {
   "codemirror_mode": {
    "name": "ipython",
    "version": 3
   },
   "file_extension": ".py",
   "mimetype": "text/x-python",
   "name": "python",
   "nbconvert_exporter": "python",
   "pygments_lexer": "ipython3",
   "version": "3.7.6"
  }
 },
 "nbformat": 4,
 "nbformat_minor": 4
}
